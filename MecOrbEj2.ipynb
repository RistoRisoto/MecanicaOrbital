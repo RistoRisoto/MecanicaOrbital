{
  "metadata": {
    "kernelspec": {
      "name": "python",
      "display_name": "Python (Pyodide)",
      "language": "python"
    },
    "language_info": {
      "codemirror_mode": {
        "name": "python",
        "version": 3
      },
      "file_extension": ".py",
      "mimetype": "text/x-python",
      "name": "python",
      "nbconvert_exporter": "python",
      "pygments_lexer": "ipython3",
      "version": "3.8"
    }
  },
  "nbformat_minor": 5,
  "nbformat": 4,
  "cells": [
    {
      "id": "ae62a5bf-20b5-4cbd-8d7d-994fddd43608",
      "cell_type": "code",
      "source": "import numpy as np\nimport random as rn\n# Datos:\nt1 = 9777*24*3600 #Día de salida\nt2 = 10089*24*3600 #Día de llegada\nr1 = np.array([\n    144227277630,\n    39264305219,\n    0\n], dtype=np.float64)\nr2 = np.array([\n    -141622217433,\n    -182870478868,\n    -322280768\n], dtype=np.float64)\nv1 = np.array([\n    -8308.762,\n    28627.508,\n    0\n], dtype=np.float64)\nmu = 1.32712438*(10**20)\n\nprint(r1x*r2x + r1y*r2y)\nprint(np.inner(r1,r2))\n\nprint('3.4. Órb Retrógrada?')\nk = np.array([0,0,1])\nisDir = np.dot( k,np.cross(r1,r2)) > 0\nprint('producto =',np.dot( k,np.cross(r1,r2)))\nDirRet = ['retrógrada','directa']\nprint('Se trata de una trayectoria',DirRet[int(isDir)])\n\nprint('\\n3.5. Calcular c, amin, tau, lamda')\nc = r2-r1\ncm = np.linalg.norm(c)\nr1m = np.linalg.norm(r1)\nr2m = np.linalg.norm(r2)\namin = 0.25*(cm+r1m+r2m)\nn = 0 #Desconocida pues n= sqrt(mu / a**3)\ntau = (t2-t1) * (amin**(-3/2)) * mu**0.5\nlamda = ( (r1m+r2m-cm)/(r1m+r2m+cm) )**0.5\nprint('c =',cm,'; amin =',amin,'; tau =',tau,'; lambda =',lamda)\n\nprint('\\n3.6. Tipo de arco')\n#Para q = 1:\nE1 = np.acos(1-2*lamda**2)\nE2 = np.acos(-1)\ntau2 = E1-np.sin(E1)+E2-np.sin(E2)\nprint('tau2 =',tau2)\nif tau>tau2:\n    print('Órbita de tipo III')\nelif tau<=tau2:\n    print('Órbita de tipo II')\nprint('\\n3.7. Iterar hasta obtener q y a')\ndef getE1(q):\n    return np.acos(1-2*q*lamda**2)\ndef getE2(q):\n    return np.acos(1-2*q)\ndef getTau(q_):\n    E1_=getE1(q_)\n    E2_=getE2(q_)\n    return (2*np.pi + (E1_-np.sin(E1_))-(E2_-np.sin(E2_)))/(q_**(3/2))\n\ndef prima(f,x,eps=10**-6):\n    return (-f(x-eps)+f(x))/eps\n\nqi=1\nqimas1=0\nfor i in range(10):\n    qi = qi - (getTau(qi)-tau)/prima(getTau,qi)\ntaui = getTau(qi)\na = amin/qi\nprint('q =',qi,'; a =',a)\nprint('deltatau final de la aproximación = ',abs(tau-taui))\n\nprint('\\n3.8. Obtener v1')\nr1x = float(r1[0])\nr1y = float(r1[1])\nr2x = float(r2[0])\nr2y = float(r2[1])\nG = mu/(r1m*r2m + np.dot(r1,r2))\ndef cuadratica(a1,b1,c1):\n    return (-b1+np.sqrt(b1*b1 - 4*a1*c1))/(2*a1), (-b1-np.sqrt(b1*b1 - 4*a1*c1))/(2*a1)\n\ndef feta2(eta2_):\n    # return 0.5*(eta_*cm)**2 + G*np.dot(c,r1)/r1m + G*G/(2*eta_**2) - mu/r1m +mu/(2*a)\n    return (cm**2)*eta2_**2/2 + (G*np.dot(c,r1)/r1m +mu/(2*a) - mu/r1m)*eta2_ + G*G/2\n\nalpha = (cm**2)\nbeta = (2*G*np.dot(c,r1)/r1m +mu/(a) - 2*mu/r1m)\ngamma = G*G\neta2 = (-beta+(beta**2 - 4*alpha*gamma)**0.5)/(2*alpha)\neta2 = cuadratica( cm**2, (2*G*np.dot(c,r1)/r1m +mu/a - 2*mu/r1m), G**2 )\neta = -np.sqrt(max(eta2))\n\nv = eta*c + (G/eta)*r1/r1m\ndeltav = np.linalg.norm(v-v1)\nprint(beta**2 - 4*alpha*gamma)\nprint('G =',G,'eta =',-np.sqrt(max(eta2)))\nprint('v1 =',v,'; deltav =',deltav)\nprint()\n# print('\\n3.9. Obtener deltaV = |v1-v_Tierra|')",
      "metadata": {
        "trusted": true
      },
      "outputs": [
        {
          "name": "stdout",
          "output_type": "stream",
          "text": "-2.7606069170103357e+22\n-2.7606069170103357e+22\n3.4. Órb Retrógrada?\nproducto = -2.081421335494519e+22\nSe trata de una trayectoria retrógrada\n\n3.5. Calcular c, amin, tau, lamda\nc = 362013673766.67365 ; amin = 185696911550.85968 ; tau = 3.8807630724865763 ; lambda = 0.1589232866706821\n\n3.6. Tipo de arco\ntau2 = 3.146985580220987\nÓrbita de tipo III\n\n3.7. Iterar hasta obtener q y a\nq = 0.9771832555945718 ; a = 190032842343.2425\ndeltatau final de la aproximación =  4.440892098500626e-16\n\n3.8. Obtener v1\n4.5002793656909824e+17\nG = 0.019047465816611608 eta = -2.3502541133716597e-07\nv1 = [-11016.37864185  30918.69080025     75.74417007] ; deltav = 3547.737826089989\n\n"
        }
      ],
      "execution_count": 113
    }
  ]
}