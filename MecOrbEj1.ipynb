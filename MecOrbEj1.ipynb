{
  "metadata": {
    "kernelspec": {
      "name": "python",
      "display_name": "Python (Pyodide)",
      "language": "python"
    },
    "language_info": {
      "codemirror_mode": {
        "name": "python",
        "version": 3
      },
      "file_extension": ".py",
      "mimetype": "text/x-python",
      "name": "python",
      "nbconvert_exporter": "python",
      "pygments_lexer": "ipython3",
      "version": "3.8"
    }
  },
  "nbformat_minor": 5,
  "nbformat": 4,
  "cells": [
    {
      "id": "d840bb2e-2679-4026-ae58-462bdb24537e",
      "cell_type": "code",
      "source": "import numpy as np\ndef norm(v):\n    return np.linalg.norm(v)\ndef deg(g):\n    return g*(180/np.pi)\n#Tenemos como datos r0, v0\nmu = 8\nr0 = [-1.0, 1.2, 1.6]\nr0=np.array(r0)\nv0 = [-0.8, -0.3, 0.0]\nv0=np.array(v0)\n\n#2.1. Calcular uh,ue,up\n#momento cinético h y vector excentricidad\nprint('2.1.')\nh = np.cross(r0,v0)\ne = (1/mu)*np.cross(v0,h) - r0/norm(r0)\nprint('h =', h)\nprint('e =', e)\nuh = h/norm(h)\nue = e/norm(e)\nup = np.cross(uh,ue)\nprint('ue = ',ue,'uh =',uh,'up =',up)\n\np=(norm(h)**2)/mu #luego usaremos que p=a(1-e^2)\nprint('p =',p)\n\n#2.2. Ángulos que definen la orientación de la órbita i, OM, om\nprint('\\n2.2.')\ni = np.arccos(h[2]/norm(h))\nOM = np.arctan2(h[0],-h[1])\nom = np.arctan2(e[2]/np.sin(i),e[0]*np.cos(OM)+e[1]*np.sin(OM))\nprint('Ángulos en grados:','i =',deg(i),'OM =',deg(OM),'om =',deg(om))\n\n#2.3.a y e\nprint('\\n2.3.')\na= p/(1-(norm(e)**2))\nprint('e =',norm(e),'a =',a)\n\n#2.4. b,rm,rx,n,T\nprint('\\n2.4.')\nb = a*(1-norm(e)**2)**(1/2)\nc=(a**2 - b**2)**(1/2)\nrmax=a+c\nrmin=a-c\nn = mu**(1/2)/a**(3/2)\nT = 2*np.pi/n\nprint('b =',b,'rmin = ',rmin,'rmax =',rmax,'n =',n,'T =',T)\n\n#2.5. Coordenadas x e y iniciales en triedro perifocal\nprint('\\n2.5.')\ncosf0 = (1/norm(e))*(p/norm(r0) - 1)\nf0 = np.arccos(cosf0)\nx0 = norm(r0)*cosf0\ny0 = norm(r0)*np.sin(f0)\nprint('En triedro perifocal:','x0 =',x0,'y0 =',y0)\n\n#2.6. f,E,M (rad)\nprint('\\n2.6.')\ntanE0entre2 = (((1-norm(e))/1+norm(e))**(1/2))*np.tan(f0/2)\nE0 = 2*np.arctan(tanE0entre2)\nM0 = E0-norm(e)*np.sin(E0)\nprint('f0 =',f0,'rad,','E0 =',E0,'rad,','M0 =',M0,'rad')\n\n#2.7. tau\nprint('\\n2.7.')\ntau = T-M0/n\nprint('tau = ',tau)\n\n#Ahora miramos posición en t+dt, dt=1\n#3.1. M1\nprint('\\n3.1.')\ndt = 1\nM1 = M0 + n*dt\nprint('M1 =',M1)\n\n#3.2 E1\nprint('\\n3.2.')\ndef Eimas1(Ei):\n    return Ei-(Ei-norm(e)*np.sin(Ei)-M1)/(1-norm(e)*np.cos(Ei))\n\nit = 10\nE1=1 #valor inicial\nEli=E1\nfor i in range(it):\n    Eli=E1\n    E1=Eimas1(E1)\n    deltaE1 = abs(E1-Eli)\nprint('E1 =',E1,'con',it,'iteraciones;','deltaE1 =',deltaE1)\n\n#3.3. valor de dE/dt\nprint('\\n3.3.')\nE1dot = n/(1-norm(e)*np.cos(E1))\nprint('E1dot =',E1dot)\n\n#3.4. x1,y1,x1dot,y1dot en triedro perifocal\nprint('\\n3.4.')\nx1=a*(np.cos(E1)-norm(e))\ny1=a*((1-norm(e)**2)**(1/2))*np.sin(E1)\nx1dot=a*np.sin(E1)*E1dot\ny1dot=a*((1-norm(e)**2)**(1/2))*np.cos(E1)*E1dot\nprint('x1 =',x1,', y1 =',y1,', x1dot =',x1dot,', y1dot =',y1dot)\n\n#3.5. r1 y v1 en el triedro de referencia\nprint('\\n3.5.')\nr1 = x1*ue + y1*up\nv1 = x1dot*ue + y1dot*up\nprint('r1 =',r1,'v1 =',v1)",
      "metadata": {
        "trusted": true
      },
      "outputs": [
        {
          "name": "stdout",
          "output_type": "stream",
          "text": "2.1.\nh = [ 0.48 -1.28  1.26]\ne = [ 0.3999636  -0.41065631 -0.56954175]\nue =  [ 0.49495772 -0.50819003 -0.70481186] uh = [ 0.25818395 -0.68849053  0.67773287] up = [0.82967337 0.51742022 0.20956719]\np = 0.4320500000000001\n\n2.2.\nÁngulos en grados: i = 47.33326578203508 OM = 20.55604521958346 om = -73.4407976394192\n\n2.3.\ne = 0.8080762925791638 a = 1.245055276974499\n\n2.4.\nb = 0.7334344772485354 rmin =  0.238955624700822 rmax = 2.251154929248176 n = 2.035926257396349 T = 3.0861556425991865\n\n2.5.\nEn triedro perifocal: x0 = -2.232484722131676 y0 = 0.12653839515598714\n\n2.6.\nf0 = 3.084972715575173 rad, E0 = 3.084972715575173 rad, M0 = 3.039243928143183 rad\n\n2.7.\ntau =  1.593349153610764\n\n3.1.\nM1 = 5.075170185539532\n\n3.2.\nE1 = 4.326512596906532 con 10 iteraciones; deltaE1 = 0.0\n\n3.3.\nE1dot = 1.5611295315856213\n\n3.4.\nx1 = -1.4747026298871597 , y1 = -0.6795042648815255 , x1dot = -1.8007707927840237 , y1dot = -0.4309398649511706\n\n3.5.\nr1 = [-1.29368204  0.39783993  0.8969861 ] v1 = [-1.24884473  0.69215676  1.17889375]\n"
        }
      ],
      "execution_count": 144
    }
  ]
}